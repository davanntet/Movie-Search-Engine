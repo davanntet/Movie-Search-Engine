{
 "cells": [
  {
   "cell_type": "code",
   "execution_count": 2,
   "id": "initial_id",
   "metadata": {
    "ExecuteTime": {
     "end_time": "2023-11-15T15:31:40.721580300Z",
     "start_time": "2023-11-15T15:31:33.040457300Z"
    },
    "collapsed": true
   },
   "outputs": [],
   "source": [
    "# import required libraries\n",
    "from sentence_transformers import SentenceTransformer, util\n",
    "import torch\n",
    "import time\n",
    "import pandas as pd\n",
    "import pickle as pkl"
   ]
  },
  {
   "cell_type": "code",
   "execution_count": 5,
   "id": "56434e8e7a213fa5",
   "metadata": {
    "ExecuteTime": {
     "end_time": "2023-11-15T15:28:27.299138300Z",
     "start_time": "2023-11-15T15:28:26.699495900Z"
    },
    "collapsed": false
   },
   "outputs": [
    {
     "data": {
      "text/plain": [
       "['title: Dick Johnson Is Dead;actors: empty;release_year: 2020;rating: PG-13;description: As her father nears the end of his life, filmmaker Kirsten Johnson stages his death in inventive and comical ways to help them both face the inevitable.;',\n",
       " 'title: Blood & Water;actors: Ama Qamata, Khosi Ngema, Gail Mabalane, Thabang Molaba, Dillon Windvogel, Natasha Thahane, Arno Greeff, Xolile Tshabalala, Getmore Sithole, Cindy Mahlangu, Ryle De Morny, Greteli Fincham, Sello Maake Ka-Ncube, Odwa Gwanya, Mekaila Mathys, Sandi Schultz, Duane Williams, Shamilla Miller, Patrick Mofokeng;release_year: 2021;rating: TV-MA;description: After crossing paths at a party, a Cape Town teen sets out to prove whether a private-school swimming star is her sister who was abducted at birth.;',\n",
       " 'title: Ganglands;actors: Sami Bouajila, Tracy Gotoas, Samuel Jouy, Nabiha Akkari, Sofia Lesaffre, Salim Kechiouche, Noureddine Farihi, Geert Van Rampelberg, Bakary Diombera;release_year: 2021;rating: TV-MA;description: To protect his family from a powerful drug lord, skilled thief Mehdi and his expert team of robbers are pulled into a violent and deadly turf war.;',\n",
       " 'title: Jailbirds New Orleans;actors: empty;release_year: 2021;rating: TV-MA;description: Feuds, flirtations and toilet talk go down among the incarcerated women at the Orleans Justice Center in New Orleans on this gritty reality series.;',\n",
       " 'title: Kota Factory;actors: Mayur More, Jitendra Kumar, Ranjan Raj, Alam Khan, Ahsaas Channa, Revathi Pillai, Urvi Singh, Arun Kumar;release_year: 2021;rating: TV-MA;description: In a city of coaching centers known to train India’s finest collegiate minds, an earnest but unexceptional student and his friends navigate campus life.;']"
      ]
     },
     "execution_count": 5,
     "metadata": {},
     "output_type": "execute_result"
    }
   ],
   "source": [
    "# load data from dataset that we prepared in the previous step\n",
    "df = pd.read_csv('datasets/storys.csv')\n",
    "paper_texts = df['title'].to_list()\n",
    "paper_texts[:5]"
   ]
  },
  {
   "cell_type": "code",
   "execution_count": 6,
   "id": "b311ca11aaebfabc",
   "metadata": {
    "collapsed": false
   },
   "outputs": [],
   "source": [
    "# this line of code is initialize a SentenceTransformer model with the 'LaBSE' model and storing it in the variable `model`. \n",
    "#This model can then be used to compute sentence embeddings, which can be used for various tasks like semantic textual similarity, clustering, and information retrieval.\n",
    "model = SentenceTransformer('sentence-transformers/LaBSE')"
   ]
  },
  {
   "cell_type": "code",
   "execution_count": 8,
   "id": "dbb2c36e1f7521d0",
   "metadata": {
    "ExecuteTime": {
     "end_time": "2023-11-15T16:19:57.248575500Z",
     "start_time": "2023-11-15T16:18:27.938606300Z"
    },
    "collapsed": false
   },
   "outputs": [
    {
     "data": {
      "application/vnd.jupyter.widget-view+json": {
       "model_id": "7d3853d43d484d38bfe32145837d26f3",
       "version_major": 2,
       "version_minor": 0
      },
      "text/plain": [
       "Batches:   0%|          | 0/276 [00:00<?, ?it/s]"
      ]
     },
     "metadata": {},
     "output_type": "display_data"
    }
   ],
   "source": [
    "# this line of code is compute sentence embeddings for the texts in `paper_texts` and storing them in the variable `corpus_embeddings`.\n",
    "corpus_embeddings = model.encode(paper_texts, show_progress_bar=True, convert_to_tensor=True)"
   ]
  },
  {
   "cell_type": "code",
   "execution_count": 28,
   "id": "d00e2204e716fc25",
   "metadata": {
    "ExecuteTime": {
     "end_time": "2023-11-15T16:20:07.224057600Z",
     "start_time": "2023-11-15T16:20:07.173743800Z"
    },
    "collapsed": false
   },
   "outputs": [],
   "source": [
    "# this line of code is used to save the `corpus_embeddings` tensor to a file named 'corpus_embeddings_v2.pt'. \n",
    "# This allows the embeddings to be loaded and used later without needing to be recomputed, which can save a lot of time if computing the embeddings is a computationally expensive operation.\n",
    "torch.save(corpus_embeddings, 'corpus_embeddings_v2.pt')"
   ]
  },
  {
   "cell_type": "markdown",
   "metadata": {},
   "source": [
    "# <center>Thank You!</center>"
   ]
  }
 ],
 "metadata": {
  "kernelspec": {
   "display_name": "Python 3",
   "language": "python",
   "name": "python3"
  },
  "language_info": {
   "codemirror_mode": {
    "name": "ipython",
    "version": 3
   },
   "file_extension": ".py",
   "mimetype": "text/x-python",
   "name": "python",
   "nbconvert_exporter": "python",
   "pygments_lexer": "ipython3",
   "version": "3.11.4"
  }
 },
 "nbformat": 4,
 "nbformat_minor": 5
}
